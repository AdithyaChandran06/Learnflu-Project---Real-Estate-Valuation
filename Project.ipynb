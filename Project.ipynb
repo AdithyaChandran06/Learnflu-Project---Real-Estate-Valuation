{
 "cells": [
  {
   "cell_type": "code",
   "execution_count": 3,
   "id": "f3e3c9f2-481d-4bf3-98a9-26e3ff3c801d",
   "metadata": {},
   "outputs": [
    {
     "name": "stdout",
     "output_type": "stream",
     "text": [
      "Model Evaluation:\n",
      "Y = House price of unit area (10,000 New Taiwan Dollar/Ping, where Ping is a local unit, 1 Ping = 3.3 square meters)\n",
      "Mean Squared Error (MSE): 53.50\n",
      "R-squared (R2): 0.68\n"
     ]
    }
   ],
   "source": [
    "import pandas as pd\n",
    "from sklearn.model_selection import train_test_split\n",
    "from sklearn.linear_model import LinearRegression\n",
    "from sklearn.metrics import mean_squared_error, r2_score\n",
    "from sklearn.preprocessing import StandardScaler\n",
    "\n",
    "# Load the dataset\n",
    "file_path = 'Real estate valuation data set.xlsx'\n",
    "data = pd.read_excel(file_path)\n",
    "\n",
    "# Drop irrelevant columns\n",
    "data_cleaned = data.drop(columns=[\"No\"])\n",
    "\n",
    "# Separate features (X) and target (Y)\n",
    "X = data_cleaned.drop(columns=[\"Y house price of unit area\"])\n",
    "y = data_cleaned[\"Y house price of unit area\"]\n",
    "\n",
    "# Feature Scaling\n",
    "scaler = StandardScaler()\n",
    "X_scaled = scaler.fit_transform(X)\n",
    "\n",
    "# Train-test split (80% training, 20% testing)\n",
    "X_train, X_test, y_train, y_test = train_test_split(X_scaled, y, test_size=0.2, random_state=42)\n",
    "\n",
    "# Initialize the Linear Regression model\n",
    "model = LinearRegression()\n",
    "\n",
    "# Train the model on the training data\n",
    "model.fit(X_train, y_train)\n",
    "\n",
    "# Predict on the test data\n",
    "y_pred = model.predict(X_test)\n",
    "\n",
    "# Evaluate the model's performance\n",
    "mse = mean_squared_error(y_test, y_pred)\n",
    "r2 = r2_score(y_test, y_pred)\n",
    "\n",
    "# Output evaluation metrics\n",
    "print(\"Model Evaluation:\")\n",
    "print(\"Y = House price of unit area (10,000 New Taiwan Dollar/Ping, where Ping is a local unit, 1 Ping = 3.3 square meters)\")\n",
    "print(f\"Mean Squared Error (MSE): {mse:.2f}\")\n",
    "print(f\"R-squared (R2): {r2:.2f}\")\n"
   ]
  },
  {
   "cell_type": "code",
   "execution_count": 7,
   "id": "7f5718dd-b242-49ad-a607-5931eb83555d",
   "metadata": {},
   "outputs": [
    {
     "name": "stdout",
     "output_type": "stream",
     "text": [
      "Model Evaluation:\n",
      "Mean Squared Error (MSE): 53.50\n",
      "R-squared (R2): 0.68\n",
      "\n",
      "Applications of the Model:\n",
      "1. Estimate property value based on features such as house age, proximity to MRT, and amenities.\n",
      "2. Perform scenario analysis to see how feature changes affect property prices.\n",
      "3. Assist in urban planning and policy-making by analyzing price-driving factors.\n",
      "\n",
      "Enter property features to predict house price (per Ping):\n"
     ]
    },
    {
     "name": "stdin",
     "output_type": "stream",
     "text": [
      "Transaction date (e.g., 2013.25 for Q1 2013):  2013\n",
      "House age (in years):  25\n",
      "Distance to the nearest MRT station (in meters):  700\n",
      "Number of convenience stores nearby:  5\n",
      "Latitude of the property:  25\n",
      "Longitude of the property:  122\n"
     ]
    },
    {
     "name": "stdout",
     "output_type": "stream",
     "text": [
      "\n",
      "Predicted house price (per Ping): 31.31 (in 10,000 New Taiwan Dollars)\n",
      "That is equivalent to 313128.53 New Taiwan Dollars per Ping.\n"
     ]
    }
   ],
   "source": [
    "import pandas as pd\n",
    "from sklearn.model_selection import train_test_split\n",
    "from sklearn.linear_model import LinearRegression\n",
    "from sklearn.metrics import mean_squared_error, r2_score\n",
    "from sklearn.preprocessing import StandardScaler\n",
    "\n",
    "# Load the dataset\n",
    "file_path = 'Real estate valuation data set.xlsx'\n",
    "data = pd.read_excel(file_path)\n",
    "\n",
    "# Drop irrelevant columns\n",
    "data_cleaned = data.drop(columns=[\"No\"])\n",
    "\n",
    "# Separate features (X) and target (Y)\n",
    "X = data_cleaned.drop(columns=[\"Y house price of unit area\"])\n",
    "y = data_cleaned[\"Y house price of unit area\"]\n",
    "\n",
    "# Feature Scaling\n",
    "scaler = StandardScaler()\n",
    "X_scaled = scaler.fit_transform(X)\n",
    "\n",
    "# Train-test split (80% training, 20% testing)\n",
    "X_train, X_test, y_train, y_test = train_test_split(X_scaled, y, test_size=0.2, random_state=42)\n",
    "\n",
    "# Initialize the Linear Regression model\n",
    "model = LinearRegression()\n",
    "\n",
    "# Train the model on the training data\n",
    "model.fit(X_train, y_train)\n",
    "\n",
    "# Predict on the test data\n",
    "y_pred = model.predict(X_test)\n",
    "\n",
    "# Evaluate the model's performance\n",
    "mse = mean_squared_error(y_test, y_pred)\n",
    "r2 = r2_score(y_test, y_pred)\n",
    "\n",
    "# Display evaluation results\n",
    "print(\"Model Evaluation:\")\n",
    "print(f\"Mean Squared Error (MSE): {mse:.2f}\")\n",
    "print(f\"R-squared (R2): {r2:.2f}\")\n",
    "\n",
    "# Explain Applications\n",
    "print(\"\\nApplications of the Model:\")\n",
    "print(\"1. Estimate property value based on features such as house age, proximity to MRT, and amenities.\")\n",
    "print(\"2. Perform scenario analysis to see how feature changes affect property prices.\")\n",
    "print(\"3. Assist in urban planning and policy-making by analyzing price-driving factors.\")\n",
    "\n",
    "# User Input for Prediction\n",
    "print(\"\\nEnter property features to predict house price (per Ping):\")\n",
    "try:\n",
    "    transaction_date = float(input(\"Transaction date (e.g., 2013.25 for Q1 2013): \"))\n",
    "    house_age = float(input(\"House age (in years): \"))\n",
    "    distance_to_mrt = float(input(\"Distance to the nearest MRT station (in meters): \"))\n",
    "    num_convenience_stores = int(input(\"Number of convenience stores nearby: \"))\n",
    "    latitude = float(input(\"Latitude of the property: \"))\n",
    "    longitude = float(input(\"Longitude of the property: \"))\n",
    "\n",
    "    # Create a DataFrame for the user input\n",
    "    user_input = pd.DataFrame([[\n",
    "        transaction_date, house_age, distance_to_mrt, num_convenience_stores, latitude, longitude\n",
    "    ]], columns=X.columns)\n",
    "\n",
    "    # Preprocess the input data\n",
    "    user_input_scaled = scaler.transform(user_input)\n",
    "\n",
    "    # Make a prediction\n",
    "    predicted_price = model.predict(user_input_scaled)[0]\n",
    "    print(f\"\\nPredicted house price (per Ping): {predicted_price:.2f} (in 10,000 New Taiwan Dollars)\")\n",
    "    print(f\"That is equivalent to {predicted_price * 10000:.2f} New Taiwan Dollars per Ping.\")\n",
    "except ValueError:\n",
    "    print(\"Invalid input! Please ensure all inputs are in the correct format.\")\n"
   ]
  },
  {
   "cell_type": "code",
   "execution_count": null,
   "id": "d16e2b35-950f-465f-9f43-3dc13a24245d",
   "metadata": {},
   "outputs": [],
   "source": []
  }
 ],
 "metadata": {
  "kernelspec": {
   "display_name": "Python 3 (ipykernel)",
   "language": "python",
   "name": "python3"
  },
  "language_info": {
   "codemirror_mode": {
    "name": "ipython",
    "version": 3
   },
   "file_extension": ".py",
   "mimetype": "text/x-python",
   "name": "python",
   "nbconvert_exporter": "python",
   "pygments_lexer": "ipython3",
   "version": "3.12.4"
  }
 },
 "nbformat": 4,
 "nbformat_minor": 5
}
